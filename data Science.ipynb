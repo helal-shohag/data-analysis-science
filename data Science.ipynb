{
 "cells": [
  {
   "cell_type": "code",
   "execution_count": 2,
   "id": "149ce520-f421-46ea-a88e-cbd8d2647615",
   "metadata": {},
   "outputs": [],
   "source": [
    "#list"
   ]
  },
  {
   "cell_type": "code",
   "execution_count": 3,
   "id": "3d5101bb-45e5-4cdc-91b8-766d4e391a21",
   "metadata": {},
   "outputs": [],
   "source": [
    "import numpy as np\n",
    "import pandas as pd\n",
    "import matplotlib.pyplot as plt\n",
    "import seaborn as sns\n",
    "%matplotlib inline"
   ]
  },
  {
   "cell_type": "code",
   "execution_count": 4,
   "id": "6b3a6e9d-d516-4946-b0fd-0ba316ffda43",
   "metadata": {},
   "outputs": [
    {
     "name": "stdout",
     "output_type": "stream",
     "text": [
      "1 is Odd\n",
      "2 is Even\n",
      "3 is Odd\n",
      "4 is Even\n",
      "5 is Odd\n"
     ]
    }
   ],
   "source": [
    "list = [1,2,3,4,5]\n",
    "for mylist in list:\n",
    "    if mylist % 2 == 0:\n",
    "        print(mylist, \"is Even\")\n",
    "    else:\n",
    "        print(mylist,\"is Odd\")"
   ]
  },
  {
   "cell_type": "code",
   "execution_count": 5,
   "id": "f626ba82-4f59-43db-bfd4-8a8a53469f1c",
   "metadata": {},
   "outputs": [
    {
     "name": "stdout",
     "output_type": "stream",
     "text": [
      "[19.08124839 10.13060398 30.31118653 30.18606219 25.50471644 27.38047679\n",
      " 25.1926066  25.96461657 18.01423307 31.69358748]\n"
     ]
    }
   ],
   "source": [
    "a = np.random.normal(25.0,5.0,10)\n",
    "print(a)"
   ]
  },
  {
   "cell_type": "code",
   "execution_count": 6,
   "id": "677aac29-d558-4446-aa34-487097b47f3c",
   "metadata": {},
   "outputs": [
    {
     "name": "stdout",
     "output_type": "stream",
     "text": [
      "[15, 16]\n"
     ]
    }
   ],
   "source": [
    "x = [15,16,17,18,19,20] \n",
    "print(x[:2])"
   ]
  },
  {
   "cell_type": "code",
   "execution_count": 7,
   "id": "24da16b3-1e99-4211-a18a-f9503874acec",
   "metadata": {},
   "outputs": [
    {
     "data": {
      "text/plain": [
       "[18, 19, 20]"
      ]
     },
     "execution_count": 7,
     "metadata": {},
     "output_type": "execute_result"
    }
   ],
   "source": [
    "x[3:]"
   ]
  },
  {
   "cell_type": "code",
   "execution_count": 8,
   "id": "f250cd1e-b87b-4be9-9ea9-7176f368b232",
   "metadata": {},
   "outputs": [
    {
     "data": {
      "text/plain": [
       "[15, 16, 17, 18]"
      ]
     },
     "execution_count": 8,
     "metadata": {},
     "output_type": "execute_result"
    }
   ],
   "source": [
    "x[:-2]"
   ]
  },
  {
   "cell_type": "code",
   "execution_count": 9,
   "id": "b48cac65-5a4b-4416-ab15-123d0e1da110",
   "metadata": {},
   "outputs": [
    {
     "data": {
      "text/plain": [
       "[19, 20]"
      ]
     },
     "execution_count": 9,
     "metadata": {},
     "output_type": "execute_result"
    }
   ],
   "source": [
    "x[-2:]"
   ]
  },
  {
   "cell_type": "code",
   "execution_count": 10,
   "id": "d86e465f-18be-450b-994b-467e2ad29ba5",
   "metadata": {},
   "outputs": [],
   "source": [
    "# tuples"
   ]
  },
  {
   "cell_type": "code",
   "execution_count": 11,
   "id": "5502f21b-f5e4-452a-8f07-6d9c8cfa022d",
   "metadata": {},
   "outputs": [
    {
     "data": {
      "text/plain": [
       "3"
      ]
     },
     "execution_count": 11,
     "metadata": {},
     "output_type": "execute_result"
    }
   ],
   "source": [
    "x =(1,2,3)\n",
    "len(x)"
   ]
  },
  {
   "cell_type": "code",
   "execution_count": 12,
   "id": "a43cb11e-0944-41c5-98f2-087420d0778f",
   "metadata": {},
   "outputs": [
    {
     "data": {
      "text/plain": [
       "3"
      ]
     },
     "execution_count": 12,
     "metadata": {},
     "output_type": "execute_result"
    }
   ],
   "source": [
    "y = (4,5,6)\n",
    "len(y)"
   ]
  },
  {
   "cell_type": "code",
   "execution_count": 13,
   "id": "aaf00372-92a6-4603-bdf5-e76ffa166279",
   "metadata": {},
   "outputs": [],
   "source": [
    "z = [x,y]"
   ]
  },
  {
   "cell_type": "code",
   "execution_count": 14,
   "id": "2d34e0be-f6c7-4310-be83-6904e8e65bdf",
   "metadata": {},
   "outputs": [
    {
     "data": {
      "text/plain": [
       "[(1, 2, 3), (4, 5, 6)]"
      ]
     },
     "execution_count": 14,
     "metadata": {},
     "output_type": "execute_result"
    }
   ],
   "source": [
    "z"
   ]
  },
  {
   "cell_type": "code",
   "execution_count": 15,
   "id": "11ba5b0e-fcc7-4a7b-8e7d-cd78b08e247e",
   "metadata": {},
   "outputs": [
    {
     "name": "stdout",
     "output_type": "stream",
     "text": [
      "32\n"
     ]
    }
   ],
   "source": [
    "(age,income) = '32,12000'.split(',')\n",
    "print(age)"
   ]
  },
  {
   "cell_type": "code",
   "execution_count": 16,
   "id": "505b75f5-6b05-4463-896c-7d4a6d225cda",
   "metadata": {},
   "outputs": [],
   "source": [
    "# Mean & Median & Mode\n"
   ]
  },
  {
   "cell_type": "code",
   "execution_count": 17,
   "id": "fb24cc81-557e-43c2-8d40-e1c5ae74406c",
   "metadata": {},
   "outputs": [
    {
     "data": {
      "text/plain": [
       "np.float64(26957.78007283002)"
      ]
     },
     "execution_count": 17,
     "metadata": {},
     "output_type": "execute_result"
    }
   ],
   "source": [
    "income = np.random.normal(27000,5000,10000)\n",
    "np.mean(income)"
   ]
  },
  {
   "cell_type": "code",
   "execution_count": null,
   "id": "394a508b-3617-4242-badd-00a2162ae063",
   "metadata": {},
   "outputs": [],
   "source": [
    "\n",
    "\n"
   ]
  },
  {
   "cell_type": "code",
   "execution_count": 18,
   "id": "8bc8b9b7-601a-48c0-a9d4-989782302843",
   "metadata": {},
   "outputs": [
    {
     "data": {
      "text/plain": [
       "np.float64(26965.083564473574)"
      ]
     },
     "execution_count": 18,
     "metadata": {},
     "output_type": "execute_result"
    }
   ],
   "source": [
    "income = np.append(income,[100000])\n",
    "np.mean(income)"
   ]
  },
  {
   "cell_type": "code",
   "execution_count": 19,
   "id": "bcec3463-1e75-4338-abff-bafd50ac7849",
   "metadata": {},
   "outputs": [
    {
     "data": {
      "image/png": "[encoded data removed]",
      "text/plain": [
       "<Figure size 640x480 with 1 Axes>"
      ]
     },
     "metadata": {},
     "output_type": "display_data"
    }
   ],
   "source": [
    "plt.hist(income,50)\n",
    "plt.show()"
   ]
  },
  {
   "cell_type": "code",
   "execution_count": 20,
   "id": "5ff5e97b-6e59-4565-9307-07b993fc840b",
   "metadata": {},
   "outputs": [],
   "source": [
    "# mode"
   ]
  },
  {
   "cell_type": "code",
   "execution_count": 21,
   "id": "b028d898-3d3a-4abb-956b-42381136d224",
   "metadata": {},
   "outputs": [
    {
     "data": {
      "text/plain": [
       "array([66, 49, 46, 47, 25, 87, 45, 73, 58, 74, 34, 29, 44, 57, 73, 34, 84,\n",
       "       62, 73, 83, 42, 79, 87, 67, 50, 37, 23, 22, 39, 23, 21, 47, 53, 51,\n",
       "       37, 72, 50, 34, 78, 59, 79, 66, 89, 55, 84, 34, 54, 84, 71, 88, 87,\n",
       "       29, 58, 48, 47, 76, 84, 31, 35, 20, 44, 61, 82, 19, 27, 61, 70, 55,\n",
       "       75, 83, 66, 41, 82, 32, 53, 56, 23, 31, 31, 81, 19, 77, 58, 68, 82,\n",
       "       81, 67, 48, 69, 69, 63, 81, 55, 52, 64, 88, 56, 67, 72, 23, 22, 55,\n",
       "       27, 28, 41, 26, 28, 60, 46, 48, 30, 35, 30, 58, 73, 76, 69, 30, 25,\n",
       "       48, 68, 52, 75, 74, 30, 44, 25, 65, 58, 72, 71, 20, 52, 28, 79, 50,\n",
       "       32, 45, 77, 57, 58, 89, 28, 73, 88, 27, 48, 71, 44, 75, 75, 18, 55,\n",
       "       85, 83, 30, 28, 69, 23, 47, 21, 43, 70, 42, 37, 44, 75, 55, 36, 29,\n",
       "       56, 89, 65, 32, 64, 70, 71, 86, 70, 50, 19, 57, 79, 43, 81, 46, 32,\n",
       "       52, 63, 45, 84, 61, 32, 23, 44, 53, 55, 84, 47, 36, 83, 20, 76, 27,\n",
       "       24, 68, 86, 71, 67, 41, 25, 47, 85, 86, 18, 42, 43, 42, 21, 38, 75,\n",
       "       56, 77, 46, 80, 47, 48, 53, 86, 83, 30, 67, 40, 68, 83, 40, 23, 59,\n",
       "       63, 73, 72, 62, 69, 80, 80, 26, 41, 69, 50, 69, 38, 55, 28, 23, 81,\n",
       "       40, 73, 33, 77, 42, 22, 62, 28, 74, 79, 69, 72, 47, 55, 55, 67, 41,\n",
       "       45, 70, 86, 83, 34, 34, 78, 75, 32, 57, 33, 63, 72, 28, 79, 86, 63,\n",
       "       79, 70, 42, 70, 58, 44, 82, 72, 47, 35, 55, 64, 45, 30, 88, 47, 79,\n",
       "       25, 71, 79, 59, 32, 54, 19, 47, 43, 89, 67, 63, 46, 24, 83, 27, 89,\n",
       "       71, 20, 80, 46, 28, 86, 74, 28, 58, 72, 75, 41, 72, 56, 44, 21, 39,\n",
       "       58, 29, 75, 26, 73, 89, 21, 87, 79, 52, 69, 31, 64, 26, 58, 62, 31,\n",
       "       47, 83, 48, 68, 70, 65, 25, 52, 59, 20, 49, 55, 42, 41, 63, 38, 32,\n",
       "       68, 57, 59, 62, 54, 20, 29, 60, 23, 40, 41, 42, 36, 70, 24, 76, 83,\n",
       "       45, 30, 35, 40, 88, 55, 67, 21, 86, 39, 32, 21, 36, 83, 32, 79, 28,\n",
       "       85, 74, 19, 43, 58, 89, 35, 69, 65, 88, 87, 75, 35, 39, 21, 43, 33,\n",
       "       25, 78, 45, 20, 64, 52, 58, 52, 48, 67, 75, 42, 25, 65, 73, 48, 21,\n",
       "       51, 73, 49, 82, 18, 49, 24, 28, 63, 67, 67, 68, 40, 50, 64, 38, 30,\n",
       "       42, 35, 36, 36, 26, 34, 53, 52, 34, 75, 63, 78, 37, 71, 78, 34, 73,\n",
       "       22, 42, 64, 72, 70, 76, 35, 80, 51, 60, 67, 66, 37, 27, 32, 48, 63,\n",
       "       30, 61, 34, 76, 70, 60, 63])"
      ]
     },
     "execution_count": 21,
     "metadata": {},
     "output_type": "execute_result"
    }
   ],
   "source": [
    "ages = np.random.randint(18,high =90,size =500)\n",
    "ages"
   ]
  },
  {
   "cell_type": "code",
   "execution_count": null,
   "id": "186e3540-cdb2-4f7b-9b79-21511a8de125",
   "metadata": {},
   "outputs": [],
   "source": [
    "\n"
   ]
  },
  {
   "cell_type": "code",
   "execution_count": null,
   "id": "c697c886-d5ac-4f90-927c-a3063572abf4",
   "metadata": {},
   "outputs": [],
   "source": []
  },
  {
   "cell_type": "code",
   "execution_count": 22,
   "id": "95829a01-94e5-4109-ab54-702a0959f622",
   "metadata": {},
   "outputs": [
    {
     "data": {
      "text/plain": [
       "np.float64(5024.606557642295)"
      ]
     },
     "execution_count": 22,
     "metadata": {},
     "output_type": "execute_result"
    }
   ],
   "source": [
    "income.std()"
   ]
  },
  {
   "cell_type": "code",
   "execution_count": 23,
   "id": "0c0e1e34-8738-4bbc-aa4f-8d9bfd74715a",
   "metadata": {},
   "outputs": [
    {
     "data": {
      "text/plain": [
       "np.float64(25246671.059101958)"
      ]
     },
     "execution_count": 23,
     "metadata": {},
     "output_type": "execute_result"
    }
   ],
   "source": [
    "income.var()"
   ]
  },
  {
   "cell_type": "code",
   "execution_count": null,
   "id": "601b91d5-4077-4eaa-8af6-0a80089dc914",
   "metadata": {},
   "outputs": [],
   "source": []
  },
  {
   "cell_type": "code",
   "execution_count": 24,
   "id": "fe6ac000-48e8-42f8-8a93-755a30679c5d",
   "metadata": {},
   "outputs": [],
   "source": [
    "plt.rcParams['figure.figsize'] = (20.0,10.0)"
   ]
  },
  {
   "cell_type": "code",
   "execution_count": 25,
   "id": "bc5ce210-ccc2-4eec-95d2-160686ff08ce",
   "metadata": {},
   "outputs": [
    {
     "data": {
      "text/plain": [
       "(7, 4)"
      ]
     },
     "execution_count": 25,
     "metadata": {},
     "output_type": "execute_result"
    }
   ],
   "source": [
    "data = pd.read_csv('/home/helal/Downloads/headbrain.csv')\n",
    "data.shape"
   ]
  },
  {
   "cell_type": "code",
   "execution_count": 26,
   "id": "971c345a-70b4-461f-a254-f5baa8468dff",
   "metadata": {},
   "outputs": [
    {
     "data": {
      "text/html": [
       "<div>\n",
       "<style scoped>\n",
       "    .dataframe tbody tr th:only-of-type {\n",
       "        vertical-align: middle;\n",
       "    }\n",
       "\n",
       "    .dataframe tbody tr th {\n",
       "        vertical-align: top;\n",
       "    }\n",
       "\n",
       "    .dataframe thead th {\n",
       "        text-align: right;\n",
       "    }\n",
       "</style>\n",
       "<table border=\"1\" class=\"dataframe\">\n",
       "  <thead>\n",
       "    <tr style=\"text-align: right;\">\n",
       "      <th></th>\n",
       "      <th>Gender</th>\n",
       "      <th>Age Range</th>\n",
       "      <th>Head Size</th>\n",
       "      <th>Brain Weight</th>\n",
       "    </tr>\n",
       "  </thead>\n",
       "  <tbody>\n",
       "    <tr>\n",
       "      <th>0</th>\n",
       "      <td>1</td>\n",
       "      <td>1</td>\n",
       "      <td>4512</td>\n",
       "      <td>1530</td>\n",
       "    </tr>\n",
       "    <tr>\n",
       "      <th>1</th>\n",
       "      <td>1</td>\n",
       "      <td>1</td>\n",
       "      <td>3738</td>\n",
       "      <td>1297</td>\n",
       "    </tr>\n",
       "    <tr>\n",
       "      <th>2</th>\n",
       "      <td>1</td>\n",
       "      <td>1</td>\n",
       "      <td>5600</td>\n",
       "      <td>1335</td>\n",
       "    </tr>\n",
       "    <tr>\n",
       "      <th>3</th>\n",
       "      <td>1</td>\n",
       "      <td>1</td>\n",
       "      <td>1200</td>\n",
       "      <td>4540</td>\n",
       "    </tr>\n",
       "    <tr>\n",
       "      <th>4</th>\n",
       "      <td>1</td>\n",
       "      <td>1</td>\n",
       "      <td>3600</td>\n",
       "      <td>3600</td>\n",
       "    </tr>\n",
       "  </tbody>\n",
       "</table>\n",
       "</div>"
      ],
      "text/plain": [
       "   Gender  Age Range  Head Size  Brain Weight\n",
       "0       1          1       4512          1530\n",
       "1       1          1       3738          1297\n",
       "2       1          1       5600          1335\n",
       "3       1          1       1200          4540\n",
       "4       1          1       3600          3600"
      ]
     },
     "execution_count": 26,
     "metadata": {},
     "output_type": "execute_result"
    }
   ],
   "source": [
    "data.head()"
   ]
  },
  {
   "cell_type": "code",
   "execution_count": 27,
   "id": "32689224-0866-4ee0-a95a-71abb40a8ec4",
   "metadata": {},
   "outputs": [
    {
     "name": "stdout",
     "output_type": "stream",
     "text": [
      "(7, 4)\n"
     ]
    }
   ],
   "source": [
    "print(data.shape)"
   ]
  },
  {
   "cell_type": "code",
   "execution_count": 28,
   "id": "5f1cc14c-3687-441a-bca0-e22ad13e59f3",
   "metadata": {},
   "outputs": [
    {
     "data": {
      "text/plain": [
       "28"
      ]
     },
     "execution_count": 28,
     "metadata": {},
     "output_type": "execute_result"
    }
   ],
   "source": [
    "data.size"
   ]
  },
  {
   "cell_type": "code",
   "execution_count": 29,
   "id": "32ca04da-d6e2-4435-9cc6-f847dc9464b7",
   "metadata": {},
   "outputs": [],
   "source": [
    "x = data['Head Size'].values\n",
    "y= data['Brain Weight'].values"
   ]
  },
  {
   "cell_type": "code",
   "execution_count": 30,
   "id": "d8b6b29d-7b7f-47ba-8b0c-9a87c5e213a2",
   "metadata": {},
   "outputs": [
    {
     "name": "stdout",
     "output_type": "stream",
     "text": [
      "0.5619650841357302 -0.12389380530930794\n"
     ]
    }
   ],
   "source": [
    "mean_x = np.mean(x)\n",
    "mean_y = np.mean(y)\n",
    "m= len(x)\n",
    "\n",
    "numer = 0\n",
    "denom = 0\n",
    "\n",
    "for i in range(m):\n",
    "    numer += (x[i] - mean_x * y[i] - mean_y)\n",
    "    denom += x[i] - mean_x ** 2\n",
    "numer\n",
    "b1 = numer/denom \n",
    "b0 = mean_y - (b1 * mean_x)\n",
    "print(b1,b0)\n",
    "    "
   ]
  },
  {
   "cell_type": "code",
   "execution_count": 31,
   "id": "da1541ef-88a6-4681-b276-10d5a86cf010",
   "metadata": {},
   "outputs": [
    {
     "name": "stdout",
     "output_type": "stream",
     "text": [
      "7\n"
     ]
    }
   ],
   "source": [
    "print(m)"
   ]
  },
  {
   "cell_type": "code",
   "execution_count": 32,
   "id": "1ee18e75-2dcc-4d97-87e9-5a727a0d988f",
   "metadata": {},
   "outputs": [
    {
     "name": "stdout",
     "output_type": "stream",
     "text": [
      "3407.1428571428573\n"
     ]
    }
   ],
   "source": [
    "print(mean_x)"
   ]
  },
  {
   "cell_type": "code",
   "execution_count": 33,
   "id": "95e3afc1",
   "metadata": {},
   "outputs": [
    {
     "name": "stdout",
     "output_type": "stream",
     "text": [
      "1914.5714285714287\n"
     ]
    }
   ],
   "source": [
    "print(mean_y)"
   ]
  },
  {
   "cell_type": "code",
   "execution_count": 35,
   "id": "3678e977",
   "metadata": {},
   "outputs": [
    {
     "data": {
      "image/png": "[encoded data removed]",
      "text/plain": [
       "<Figure size 2000x1000 with 1 Axes>"
      ]
     },
     "metadata": {},
     "output_type": "display_data"
    }
   ],
   "source": [
    "max_x = np.max(x) + 100\n",
    "min_x = np.max(y) - 100\n",
    "\n",
    "# line Value\n",
    "\n",
    "c = np.linspace(min_x,max_x,1000)\n",
    "d = b0 + b1 * c\n",
    "plt.plot(c,d,color='#58b970',label='Regression Line')\n",
    "plt.scatter(c,d,c='#ef5423',label='Scatter Plot')\n",
    "plt.xlabel('Head Size in Cm3')\n",
    "plt.ylabel('Brain Weight in germs')\n",
    "plt.legend()\n",
    "plt.show()"
   ]
  },
  {
   "cell_type": "code",
   "execution_count": null,
   "id": "621ce9c0",
   "metadata": {},
   "outputs": [],
   "source": []
  },
  {
   "cell_type": "code",
   "execution_count": null,
   "id": "4bf1dc8d",
   "metadata": {},
   "outputs": [],
   "source": []
  },
  {
   "cell_type": "code",
   "execution_count": null,
   "id": "b54da005",
   "metadata": {},
   "outputs": [],
   "source": []
  }
 ],
 "metadata": {
  "kernelspec": {
   "display_name": ".venv",
   "language": "python",
   "name": "python3"
  },
  "language_info": {
   "codemirror_mode": {
    "name": "ipython",
    "version": 3
   },
   "file_extension": ".py",
   "mimetype": "text/x-python",
   "name": "python",
   "nbconvert_exporter": "python",
   "pygments_lexer": "ipython3",
   "version": "3.10.12"
  }
 },
 "nbformat": 4,
 "nbformat_minor": 5
}
