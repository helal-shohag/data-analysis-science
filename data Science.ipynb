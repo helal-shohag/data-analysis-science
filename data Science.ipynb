{
 "cells": [
  {
   "cell_type": "code",
   "execution_count": 3,
   "id": "149ce520-f421-46ea-a88e-cbd8d2647615",
   "metadata": {},
   "outputs": [],
   "source": [
    "#list"
   ]
  },
  {
   "cell_type": "code",
   "execution_count": 1,
   "id": "3d5101bb-45e5-4cdc-91b8-766d4e391a21",
   "metadata": {},
   "outputs": [],
   "source": [
    "import numpy as np\n",
    "import pandas as pd\n",
    "import matplotlib as plt"
   ]
  },
  {
   "cell_type": "code",
   "execution_count": 2,
   "id": "6b3a6e9d-d516-4946-b0fd-0ba316ffda43",
   "metadata": {},
   "outputs": [
    {
     "name": "stdout",
     "output_type": "stream",
     "text": [
      "1 is Odd\n",
      "2 is Even\n",
      "3 is Odd\n",
      "4 is Even\n",
      "5 is Odd\n"
     ]
    }
   ],
   "source": [
    "list = [1,2,3,4,5]\n",
    "for mylist in list:\n",
    "    if mylist % 2 == 0:\n",
    "        print(mylist, \"is Even\")\n",
    "    else:\n",
    "        print(mylist,\"is Odd\")"
   ]
  },
  {
   "cell_type": "code",
   "execution_count": 3,
   "id": "f626ba82-4f59-43db-bfd4-8a8a53469f1c",
   "metadata": {},
   "outputs": [
    {
     "name": "stdout",
     "output_type": "stream",
     "text": [
      "[29.83853204 22.14368468 22.8129708  26.1170784  21.80342965 26.77947751\n",
      " 15.1532528  18.05467942 31.8714573  23.71164073]\n"
     ]
    }
   ],
   "source": [
    "a = np.random.normal(25.0,5.0,10)\n",
    "print(a)"
   ]
  },
  {
   "cell_type": "code",
   "execution_count": 4,
   "id": "677aac29-d558-4446-aa34-487097b47f3c",
   "metadata": {},
   "outputs": [
    {
     "name": "stdout",
     "output_type": "stream",
     "text": [
      "[15, 16]\n"
     ]
    }
   ],
   "source": [
    "x = [15,16,17,18,19,20] \n",
    "print(x[:2])"
   ]
  },
  {
   "cell_type": "code",
   "execution_count": 5,
   "id": "24da16b3-1e99-4211-a18a-f9503874acec",
   "metadata": {},
   "outputs": [
    {
     "data": {
      "text/plain": [
       "[18, 19, 20]"
      ]
     },
     "execution_count": 5,
     "metadata": {},
     "output_type": "execute_result"
    }
   ],
   "source": [
    "x[3:]"
   ]
  },
  {
   "cell_type": "code",
   "execution_count": 6,
   "id": "f250cd1e-b87b-4be9-9ea9-7176f368b232",
   "metadata": {},
   "outputs": [
    {
     "data": {
      "text/plain": [
       "[15, 16, 17, 18]"
      ]
     },
     "execution_count": 6,
     "metadata": {},
     "output_type": "execute_result"
    }
   ],
   "source": [
    "x[:-2]"
   ]
  },
  {
   "cell_type": "code",
   "execution_count": 7,
   "id": "b48cac65-5a4b-4416-ab15-123d0e1da110",
   "metadata": {},
   "outputs": [
    {
     "data": {
      "text/plain": [
       "[19, 20]"
      ]
     },
     "execution_count": 7,
     "metadata": {},
     "output_type": "execute_result"
    }
   ],
   "source": [
    "x[-2:]"
   ]
  },
  {
   "cell_type": "code",
   "execution_count": 8,
   "id": "d86e465f-18be-450b-994b-467e2ad29ba5",
   "metadata": {},
   "outputs": [],
   "source": [
    "# tuples"
   ]
  },
  {
   "cell_type": "code",
   "execution_count": 9,
   "id": "5502f21b-f5e4-452a-8f07-6d9c8cfa022d",
   "metadata": {},
   "outputs": [
    {
     "data": {
      "text/plain": [
       "3"
      ]
     },
     "execution_count": 9,
     "metadata": {},
     "output_type": "execute_result"
    }
   ],
   "source": [
    "x =(1,2,3)\n",
    "len(x)"
   ]
  },
  {
   "cell_type": "code",
   "execution_count": 10,
   "id": "a43cb11e-0944-41c5-98f2-087420d0778f",
   "metadata": {},
   "outputs": [
    {
     "data": {
      "text/plain": [
       "3"
      ]
     },
     "execution_count": 10,
     "metadata": {},
     "output_type": "execute_result"
    }
   ],
   "source": [
    "y = (4,5,6)\n",
    "len(y)"
   ]
  },
  {
   "cell_type": "code",
   "execution_count": 15,
   "id": "aaf00372-92a6-4603-bdf5-e76ffa166279",
   "metadata": {},
   "outputs": [],
   "source": [
    "z = [x,y]"
   ]
  },
  {
   "cell_type": "code",
   "execution_count": 23,
   "id": "2d34e0be-f6c7-4310-be83-6904e8e65bdf",
   "metadata": {},
   "outputs": [
    {
     "data": {
      "text/plain": [
       "[(1, 2, 3), (4, 5, 6)]"
      ]
     },
     "execution_count": 23,
     "metadata": {},
     "output_type": "execute_result"
    }
   ],
   "source": [
    "z"
   ]
  },
  {
   "cell_type": "code",
   "execution_count": 25,
   "id": "11ba5b0e-fcc7-4a7b-8e7d-cd78b08e247e",
   "metadata": {},
   "outputs": [
    {
     "name": "stdout",
     "output_type": "stream",
     "text": [
      "32\n"
     ]
    }
   ],
   "source": [
    "(age,income) = '32,12000'.split(',')\n",
    "print(age)"
   ]
  },
  {
   "cell_type": "code",
   "execution_count": 27,
   "id": "505b75f5-6b05-4463-896c-7d4a6d225cda",
   "metadata": {},
   "outputs": [],
   "source": [
    "# Mean & Median & Mode\n"
   ]
  },
  {
   "cell_type": "code",
   "execution_count": 29,
   "id": "fb24cc81-557e-43c2-8d40-e1c5ae74406c",
   "metadata": {},
   "outputs": [
    {
     "data": {
      "text/plain": [
       "26995.4713024794"
      ]
     },
     "execution_count": 29,
     "metadata": {},
     "output_type": "execute_result"
    }
   ],
   "source": [
    "income = np.random.normal(27000,5000,10000)\n",
    "np.mean(income)"
   ]
  },
  {
   "cell_type": "code",
   "execution_count": 31,
   "id": "394a508b-3617-4242-badd-00a2162ae063",
   "metadata": {},
   "outputs": [
    {
     "ename": "NameError",
     "evalue": "name 'data' is not defined",
     "output_type": "error",
     "traceback": [
      "\u001b[0;31m---------------------------------------------------------------------------\u001b[0m",
      "\u001b[0;31mNameError\u001b[0m                                 Traceback (most recent call last)",
      "Cell \u001b[0;32mIn[31], line 3\u001b[0m\n\u001b[1;32m      1\u001b[0m \u001b[38;5;28;01mimport\u001b[39;00m \u001b[38;5;21;01mmatplotlib\u001b[39;00m\u001b[38;5;21;01m.\u001b[39;00m\u001b[38;5;21;01mpyplot\u001b[39;00m \u001b[38;5;28;01mas\u001b[39;00m \u001b[38;5;21;01mplt\u001b[39;00m\n\u001b[1;32m      2\u001b[0m plt\u001b[38;5;241m.\u001b[39mhist(income,\u001b[38;5;241m100\u001b[39m)\n\u001b[0;32m----> 3\u001b[0m data\u001b[38;5;241m.\u001b[39mShow()\n",
      "\u001b[0;31mNameError\u001b[0m: name 'data' is not defined"
     ]
    },
    {
     "data": {
      "image/png": "[encoded data removed]",
      "text/plain": [
       "<Figure size 640x480 with 1 Axes>"
      ]
     },
     "metadata": {},
     "output_type": "display_data"
    }
   ],
   "source": [
    "\n",
    "import matplotlib.pyplot as plt\n",
    "plt.hist(income,100)\n",
    "data.Show()\n"
   ]
  },
  {
   "cell_type": "code",
   "execution_count": 61,
   "id": "8bc8b9b7-601a-48c0-a9d4-989782302843",
   "metadata": {},
   "outputs": [
    {
     "data": {
      "text/plain": [
       "27035.895714097198"
      ]
     },
     "execution_count": 61,
     "metadata": {},
     "output_type": "execute_result"
    }
   ],
   "source": [
    "income = np.append(income,[100000])\n",
    "np.mean(income)"
   ]
  },
  {
   "cell_type": "code",
   "execution_count": 63,
   "id": "bcec3463-1e75-4338-abff-bafd50ac7849",
   "metadata": {},
   "outputs": [
    {
     "data": {
      "image/png": "[encoded data removed]",
      "text/plain": [
       "<Figure size 640x480 with 1 Axes>"
      ]
     },
     "metadata": {},
     "output_type": "display_data"
    }
   ],
   "source": [
    "plt.hist(income,50)\n",
    "plt.show()"
   ]
  },
  {
   "cell_type": "code",
   "execution_count": 65,
   "id": "5ff5e97b-6e59-4565-9307-07b993fc840b",
   "metadata": {},
   "outputs": [],
   "source": [
    "# mode"
   ]
  },
  {
   "cell_type": "code",
   "execution_count": 37,
   "id": "b028d898-3d3a-4abb-956b-42381136d224",
   "metadata": {},
   "outputs": [
    {
     "data": {
      "text/plain": [
       "array([87, 62, 26, 72, 86, 19, 77, 88, 88, 38, 82, 40, 27, 85, 59, 67, 78,\n",
       "       27, 81, 69, 36, 85, 84, 88, 89, 88, 88, 60, 59, 46, 61, 76, 67, 45,\n",
       "       45, 88, 18, 19, 60, 46, 21, 39, 40, 26, 19, 78, 84, 61, 85, 71, 21,\n",
       "       36, 89, 83, 80, 21, 76, 48, 19, 49, 38, 37, 80, 85, 49, 31, 20, 27,\n",
       "       57, 66, 71, 89, 44, 30, 56, 64, 36, 79, 72, 60, 57, 83, 23, 35, 54,\n",
       "       50, 85, 43, 34, 57, 35, 22, 72, 40, 38, 40, 62, 71, 40, 74, 20, 56,\n",
       "       84, 77, 37, 74, 81, 51, 45, 76, 65, 78, 51, 18, 37, 89, 24, 52, 62,\n",
       "       77, 50, 36, 84, 56, 80, 70, 42, 26, 28, 21, 27, 53, 67, 34, 30, 69,\n",
       "       41, 72, 18, 27, 31, 76, 68, 62, 73, 37, 55, 40, 20, 18, 84, 71, 59,\n",
       "       25, 41, 48, 64, 18, 65, 29, 39, 24, 53, 21, 74, 22, 71, 24, 83, 34,\n",
       "       78, 89, 63, 80, 86, 79, 36, 76, 55, 71, 46, 75, 38, 41, 87, 40, 23,\n",
       "       88, 85, 86, 85, 68, 85, 44, 43, 52, 61, 46, 73, 70, 78, 63, 31, 72,\n",
       "       33, 81, 66, 39, 77, 51, 46, 22, 88, 54, 22, 85, 47, 87, 55, 32, 75,\n",
       "       24, 43, 81, 46, 68, 25, 25, 43, 71, 22, 19, 18, 35, 88, 25, 77, 23,\n",
       "       26, 55, 80, 31, 53, 78, 56, 54, 21, 29, 42, 69, 54, 50, 18, 29, 27,\n",
       "       34, 85, 84, 36, 46, 28, 24, 66, 21, 75, 36, 23, 89, 47, 63, 67, 24,\n",
       "       19, 18, 80, 36, 57, 22, 68, 39, 69, 35, 42, 25, 36, 52, 27, 36, 73,\n",
       "       25, 38, 62, 32, 68, 21, 58, 56, 24, 70, 72, 84, 80, 30, 54, 85, 70,\n",
       "       34, 44, 86, 19, 57, 64, 74, 20, 53, 19, 27, 44, 30, 45, 60, 19, 47,\n",
       "       69, 24, 60, 81, 24, 46, 85, 38, 67, 54, 56, 49, 60, 85, 24, 62, 73,\n",
       "       19, 86, 43, 24, 89, 80, 67, 52, 43, 79, 33, 49, 62, 33, 70, 64, 32,\n",
       "       24, 64, 30, 62, 34, 44, 44, 82, 88, 46, 20, 84, 79, 82, 89, 33, 78,\n",
       "       80, 28, 67, 73, 77, 67, 82, 23, 77, 59, 59, 74, 72, 18, 54, 51, 46,\n",
       "       62, 61, 40, 70, 82, 18, 42, 36, 77, 89, 71, 51, 27, 74, 50, 61, 31,\n",
       "       49, 70, 79, 72, 43, 67, 66, 27, 62, 58, 36, 70, 52, 69, 29, 66, 81,\n",
       "       37, 75, 68, 78, 19, 39, 76, 74, 23, 27, 57, 87, 66, 86, 54, 53, 75,\n",
       "       71, 43, 53, 27, 49, 88, 42, 64, 44, 83, 52, 55, 41, 35, 55, 82, 46,\n",
       "       32, 85, 44, 35, 27, 61, 65, 23, 40, 18, 21, 88, 40, 30, 32, 88, 87,\n",
       "       61, 78, 81, 58, 59, 41, 30, 62, 69, 84, 73, 32, 24, 69, 45, 79, 50,\n",
       "       70, 78, 60, 29, 26, 47, 18])"
      ]
     },
     "execution_count": 37,
     "metadata": {},
     "output_type": "execute_result"
    }
   ],
   "source": [
    "ages = np.random.randint(18,high =90,size =500)\n",
    "ages"
   ]
  },
  {
   "cell_type": "code",
   "execution_count": 39,
   "id": "186e3540-cdb2-4f7b-9b79-21511a8de125",
   "metadata": {},
   "outputs": [],
   "source": [
    "from scipy import stats\n"
   ]
  },
  {
   "cell_type": "code",
   "execution_count": 41,
   "id": "c697c886-d5ac-4f90-927c-a3063572abf4",
   "metadata": {},
   "outputs": [
    {
     "data": {
      "text/plain": [
       "ModeResult(mode=85, count=14)"
      ]
     },
     "execution_count": 41,
     "metadata": {},
     "output_type": "execute_result"
    }
   ],
   "source": [
    "stats.mode(ages)"
   ]
  },
  {
   "cell_type": "code",
   "execution_count": 43,
   "id": "95829a01-94e5-4109-ab54-702a0959f622",
   "metadata": {},
   "outputs": [
    {
     "data": {
      "text/plain": [
       "5047.75659784287"
      ]
     },
     "execution_count": 43,
     "metadata": {},
     "output_type": "execute_result"
    }
   ],
   "source": [
    "income.std()"
   ]
  },
  {
   "cell_type": "code",
   "execution_count": 45,
   "id": "0c0e1e34-8738-4bbc-aa4f-8d9bfd74715a",
   "metadata": {},
   "outputs": [
    {
     "data": {
      "text/plain": [
       "25479846.671066225"
      ]
     },
     "execution_count": 45,
     "metadata": {},
     "output_type": "execute_result"
    }
   ],
   "source": [
    "income.var()"
   ]
  },
  {
   "cell_type": "code",
   "execution_count": 49,
   "id": "601b91d5-4077-4eaa-8af6-0a80089dc914",
   "metadata": {},
   "outputs": [],
   "source": [
    "%matplotlib inline\n",
    "import pandas as pd\n",
    "import numpy as np\n",
    "import matplotlib.pyplot as plt"
   ]
  },
  {
   "cell_type": "code",
   "execution_count": 51,
   "id": "fe6ac000-48e8-42f8-8a93-755a30679c5d",
   "metadata": {},
   "outputs": [],
   "source": [
    "plt.rcParams['figure.figsize'] = (20.0,10.0)"
   ]
  },
  {
   "cell_type": "code",
   "execution_count": 82,
   "id": "bc5ce210-ccc2-4eec-95d2-160686ff08ce",
   "metadata": {},
   "outputs": [
    {
     "data": {
      "text/plain": [
       "(7, 4)"
      ]
     },
     "execution_count": 82,
     "metadata": {},
     "output_type": "execute_result"
    }
   ],
   "source": [
    "data = pd.read_csv('/home/helal/Downloads/headbrain.csv')\n",
    "data.shape"
   ]
  },
  {
   "cell_type": "code",
   "execution_count": 84,
   "id": "971c345a-70b4-461f-a254-f5baa8468dff",
   "metadata": {},
   "outputs": [
    {
     "data": {
      "text/html": [
       "<div>\n",
       "<style scoped>\n",
       "    .dataframe tbody tr th:only-of-type {\n",
       "        vertical-align: middle;\n",
       "    }\n",
       "\n",
       "    .dataframe tbody tr th {\n",
       "        vertical-align: top;\n",
       "    }\n",
       "\n",
       "    .dataframe thead th {\n",
       "        text-align: right;\n",
       "    }\n",
       "</style>\n",
       "<table border=\"1\" class=\"dataframe\">\n",
       "  <thead>\n",
       "    <tr style=\"text-align: right;\">\n",
       "      <th></th>\n",
       "      <th>Gender</th>\n",
       "      <th>Age Range</th>\n",
       "      <th>Head Size</th>\n",
       "      <th>Brain Weight</th>\n",
       "    </tr>\n",
       "  </thead>\n",
       "  <tbody>\n",
       "    <tr>\n",
       "      <th>0</th>\n",
       "      <td>1</td>\n",
       "      <td>1</td>\n",
       "      <td>4512</td>\n",
       "      <td>1530</td>\n",
       "    </tr>\n",
       "    <tr>\n",
       "      <th>1</th>\n",
       "      <td>1</td>\n",
       "      <td>1</td>\n",
       "      <td>3738</td>\n",
       "      <td>1297</td>\n",
       "    </tr>\n",
       "    <tr>\n",
       "      <th>2</th>\n",
       "      <td>1</td>\n",
       "      <td>1</td>\n",
       "      <td>5600</td>\n",
       "      <td>1335</td>\n",
       "    </tr>\n",
       "    <tr>\n",
       "      <th>3</th>\n",
       "      <td>1</td>\n",
       "      <td>1</td>\n",
       "      <td>1200</td>\n",
       "      <td>4540</td>\n",
       "    </tr>\n",
       "    <tr>\n",
       "      <th>4</th>\n",
       "      <td>1</td>\n",
       "      <td>1</td>\n",
       "      <td>3600</td>\n",
       "      <td>3600</td>\n",
       "    </tr>\n",
       "  </tbody>\n",
       "</table>\n",
       "</div>"
      ],
      "text/plain": [
       "   Gender  Age Range  Head Size  Brain Weight\n",
       "0       1          1       4512          1530\n",
       "1       1          1       3738          1297\n",
       "2       1          1       5600          1335\n",
       "3       1          1       1200          4540\n",
       "4       1          1       3600          3600"
      ]
     },
     "execution_count": 84,
     "metadata": {},
     "output_type": "execute_result"
    }
   ],
   "source": [
    "data.head()"
   ]
  },
  {
   "cell_type": "code",
   "execution_count": 86,
   "id": "32689224-0866-4ee0-a95a-71abb40a8ec4",
   "metadata": {},
   "outputs": [
    {
     "name": "stdout",
     "output_type": "stream",
     "text": [
      "(7, 4)\n"
     ]
    }
   ],
   "source": [
    "print(data.shape)"
   ]
  },
  {
   "cell_type": "code",
   "execution_count": 88,
   "id": "5f1cc14c-3687-441a-bca0-e22ad13e59f3",
   "metadata": {},
   "outputs": [
    {
     "data": {
      "text/plain": [
       "28"
      ]
     },
     "execution_count": 88,
     "metadata": {},
     "output_type": "execute_result"
    }
   ],
   "source": [
    "data.size"
   ]
  },
  {
   "cell_type": "code",
   "execution_count": 93,
   "id": "32ca04da-d6e2-4435-9cc6-f847dc9464b7",
   "metadata": {},
   "outputs": [],
   "source": [
    "x = data['Head Size'].values\n",
    "y= data['Brain Weight'].values"
   ]
  },
  {
   "cell_type": "code",
   "execution_count": 97,
   "id": "d8b6b29d-7b7f-47ba-8b0c-9a87c5e213a2",
   "metadata": {},
   "outputs": [
    {
     "name": "stdout",
     "output_type": "stream",
     "text": [
      "-45652080.571428575\n"
     ]
    }
   ],
   "source": [
    "mean_x = np.mean(x)\n",
    "mean_y = np.mean(y)\n",
    "m= len(x)\n",
    "\n",
    "numer = 0\n",
    "denom = 0\n",
    "\n",
    "for i in range(m):\n",
    "    numer+= (x[i] - mean_x * y[i] - mean_y)\n",
    "    denom = x[i] - mean_x ** 2\n",
    "\n",
    "## b1 = numer/denom\n",
    "\n",
    "print(numer)\n",
    "    "
   ]
  },
  {
   "cell_type": "code",
   "execution_count": 99,
   "id": "da1541ef-88a6-4681-b276-10d5a86cf010",
   "metadata": {},
   "outputs": [
    {
     "name": "stdout",
     "output_type": "stream",
     "text": [
      "7\n"
     ]
    }
   ],
   "source": [
    "print(m)"
   ]
  },
  {
   "cell_type": "code",
   "execution_count": null,
   "id": "1ee18e75-2dcc-4d97-87e9-5a727a0d988f",
   "metadata": {},
   "outputs": [],
   "source": []
  }
 ],
 "metadata": {
  "kernelspec": {
   "display_name": "Python [conda env:base] *",
   "language": "python",
   "name": "conda-base-py"
  },
  "language_info": {
   "codemirror_mode": {
    "name": "ipython",
    "version": 3
   },
   "file_extension": ".py",
   "mimetype": "text/x-python",
   "name": "python",
   "nbconvert_exporter": "python",
   "pygments_lexer": "ipython3",
   "version": "3.12.7"
  }
 },
 "nbformat": 4,
 "nbformat_minor": 5
}
